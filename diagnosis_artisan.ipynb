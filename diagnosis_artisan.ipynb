{
 "cells": [
  {
   "cell_type": "markdown",
   "metadata": {},
   "source": [
    "#### Importing libraries"
   ]
  },
  {
   "cell_type": "code",
   "execution_count": 1,
   "metadata": {},
   "outputs": [],
   "source": [
    "import xlwings as xw\n",
    "from datetime import datetime\n",
    "import openpyxl\n",
    "from openpyxl.utils import get_column_letter\n",
    "import numpy as np\n",
    "import re\n",
    "import pandas as pd\n"
   ]
  },
  {
   "cell_type": "markdown",
   "metadata": {},
   "source": [
    "##### Opening files"
   ]
  },
  {
   "cell_type": "code",
   "execution_count": 2,
   "metadata": {},
   "outputs": [],
   "source": [
    "#Reading files\n",
    "user = input(\"Enter your laptop user: \")\n",
    "# Get the current date\n",
    "current_date = datetime.now().strftime(\"%Y%m%d\")\n",
    "\n",
    "gl = xw.Book(r'C:\\Users\\{user}\\Downloads\\general_ledger-{çurrent_day}.xlsx'.format(user=user, çurrent_day=current_date))\n",
    "sec_dep_det = xw.Book(r'C:\\Users\\{user}\\Downloads\\security_deposit_funds_detail-{çurrent_day}.xlsx'.format(user=user,çurrent_day=current_date))\n",
    "\n",
    "# Indicating worksheet\n",
    "gl_worksheet = gl.sheets['Sheet1']\n",
    "sec_dep_det_worksheet = sec_dep_det.sheets['Sheet1']"
   ]
  },
  {
   "cell_type": "markdown",
   "metadata": {},
   "source": [
    "#### Diagnostics 1"
   ]
  },
  {
   "cell_type": "code",
   "execution_count": 3,
   "metadata": {},
   "outputs": [],
   "source": [
    "# Defining rows to calculate values\n",
    "first_row_of_values = gl.sheets['Sheet1'].range('a'+ str(gl.sheets['Sheet1'].cells.last_cell.row)).end('up').end('up').end('up').row + 2 # first row of values\n",
    "last_row_of_values = gl.sheets['Sheet1'].range('a'+ str(gl.sheets['Sheet1'].cells.last_cell.row)).end('up').end('up').row - 1  # last row of values\n",
    "\n",
    "\n",
    "\n",
    "# Creating columns to adjust payee names\n",
    "gl.sheets['Sheet1'].api.Columns(4).Insert() # Inserting column\n",
    "gl.sheets['Sheet1'].api.Columns(4).Insert() # Inserting another column to include numerical index for payee names\n",
    "\n",
    "\n",
    "# Including adjusted payee names\n",
    "\n",
    "# Read values from column C and remove spaces using pandas\n",
    "data_range_for_payee = gl.sheets['Sheet1'].range('c{}:c{}'.format(first_row_of_values, last_row_of_values))\n",
    "column_c_values = data_range_for_payee.value\n",
    "\n",
    "# Convert to a pandas DataFrame for efficient processing\n",
    "df = pd.DataFrame(column_c_values, columns=['Column_C'])\n",
    "\n",
    "# Remove spaces and handle empty values\n",
    "df['Column_D'] = df['Column_C'].apply(lambda x: x.replace(\" \", \"\") if isinstance(x, str) else \"No Payee Name\")\n",
    "\n",
    "# Write the modified data back to column D & E (including numerical index)\n",
    "gl.sheets['Sheet1'].range('D{}'.format(first_row_of_values)).value = dict(df['Column_D'])\n",
    "\n"
   ]
  },
  {
   "cell_type": "code",
   "execution_count": null,
   "metadata": {},
   "outputs": [],
   "source": []
  },
  {
   "cell_type": "code",
   "execution_count": 4,
   "metadata": {},
   "outputs": [
    {
     "data": {
      "text/plain": [
       "True"
      ]
     },
     "execution_count": 4,
     "metadata": {},
     "output_type": "execute_result"
    }
   ],
   "source": [
    "# Adding net column (debt - credit)\n",
    "gl.sheets['Sheet1'].api.Columns(10).Insert() # Inserting column\n",
    "\n",
    "# Set the formula for the entire range of cells in column J\n",
    "range_formula = '=H{}:H{}-I{}:I{}'.format(first_row_of_values, last_row_of_values, first_row_of_values, last_row_of_values)\n",
    "# Applying the formula to the entire column from the starting row to the ending row\n",
    "gl.sheets['Sheet1'].range('J{}:J{}'.format(first_row_of_values, last_row_of_values)).formula = range_formula \n",
    "\n"
   ]
  },
  {
   "cell_type": "code",
   "execution_count": null,
   "metadata": {},
   "outputs": [],
   "source": []
  },
  {
   "cell_type": "code",
   "execution_count": null,
   "metadata": {},
   "outputs": [],
   "source": []
  },
  {
   "cell_type": "code",
   "execution_count": null,
   "metadata": {},
   "outputs": [],
   "source": []
  },
  {
   "cell_type": "code",
   "execution_count": null,
   "metadata": {},
   "outputs": [],
   "source": []
  },
  {
   "cell_type": "code",
   "execution_count": null,
   "metadata": {},
   "outputs": [],
   "source": []
  },
  {
   "cell_type": "code",
   "execution_count": null,
   "metadata": {},
   "outputs": [],
   "source": []
  },
  {
   "cell_type": "code",
   "execution_count": null,
   "metadata": {},
   "outputs": [],
   "source": []
  },
  {
   "cell_type": "code",
   "execution_count": null,
   "metadata": {},
   "outputs": [],
   "source": []
  },
  {
   "cell_type": "markdown",
   "metadata": {},
   "source": [
    "#### Notes"
   ]
  },
  {
   "cell_type": "markdown",
   "metadata": {},
   "source": [
    "No cambiarle el nombre a los archivos que se descargan de appfolio"
   ]
  }
 ],
 "metadata": {
  "kernelspec": {
   "display_name": "Python 3",
   "language": "python",
   "name": "python3"
  },
  "language_info": {
   "codemirror_mode": {
    "name": "ipython",
    "version": 3
   },
   "file_extension": ".py",
   "mimetype": "text/x-python",
   "name": "python",
   "nbconvert_exporter": "python",
   "pygments_lexer": "ipython3",
   "version": "3.11.1"
  }
 },
 "nbformat": 4,
 "nbformat_minor": 2
}
