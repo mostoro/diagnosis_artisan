{
 "cells": [
  {
   "cell_type": "markdown",
   "metadata": {},
   "source": [
    "#### Importing libraries"
   ]
  },
  {
   "cell_type": "code",
   "execution_count": 1,
   "metadata": {},
   "outputs": [],
   "source": [
    "import xlwings as xw\n",
    "from datetime import datetime\n",
    "import openpyxl\n",
    "from openpyxl.utils import get_column_letter\n",
    "import numpy as np\n",
    "import re\n",
    "import pandas as pd\n"
   ]
  },
  {
   "cell_type": "markdown",
   "metadata": {},
   "source": [
    "#### Diagnosis 1"
   ]
  },
  {
   "cell_type": "markdown",
   "metadata": {},
   "source": [
    "##### Opening files"
   ]
  },
  {
   "cell_type": "code",
   "execution_count": 2,
   "metadata": {},
   "outputs": [],
   "source": [
    "#Reading files\n",
    "user = input(\"Enter your laptop user: \")\n",
    "# Get the current date\n",
    "current_date = datetime.now().strftime(\"%Y%m%d\")\n",
    "\n",
    "gl = xw.Book(r'C:\\Users\\{user}\\Downloads\\general_ledger-{çurrent_day}.xlsx'.format(user=user, çurrent_day=current_date))\n",
    "sec_dep_det = xw.Book(r'C:\\Users\\{user}\\Downloads\\security_deposit_funds_detail-{çurrent_day}.xlsx'.format(user=user,çurrent_day=current_date))\n",
    "\n",
    "# Indicating worksheet\n",
    "gl_worksheet = gl.sheets['Sheet1']\n",
    "sec_dep_det_worksheet = sec_dep_det.sheets['Sheet1']"
   ]
  },
  {
   "cell_type": "markdown",
   "metadata": {},
   "source": [
    "##### Including adjusted payee names"
   ]
  },
  {
   "cell_type": "code",
   "execution_count": 3,
   "metadata": {},
   "outputs": [],
   "source": [
    "# Defining rows to calculate values\n",
    "first_row_of_values = gl.sheets['Sheet1'].range('a'+ str(gl.sheets['Sheet1'].cells.last_cell.row)).end('up').end('up').end('up').row + 2 # first row of values\n",
    "last_row_of_values = gl.sheets['Sheet1'].range('a'+ str(gl.sheets['Sheet1'].cells.last_cell.row)).end('up').end('up').row - 1  # last row of values\n",
    "\n",
    "\n",
    "\n",
    "# Creating columns to adjust payee names\n",
    "gl.sheets['Sheet1'].api.Columns(4).Insert() # Inserting column\n",
    "gl.sheets['Sheet1'].api.Columns(4).Insert() # Inserting another column to include numerical index for payee names\n",
    "\n",
    "\n",
    "# Including adjusted payee names\n",
    "\n",
    "# Read values from column C and remove spaces using pandas\n",
    "data_range_for_payee = gl.sheets['Sheet1'].range('c{}:c{}'.format(first_row_of_values, last_row_of_values))\n",
    "column_c_values = data_range_for_payee.value\n",
    "\n",
    "# Convert to a pandas DataFrame for efficient processing\n",
    "df = pd.DataFrame(column_c_values, columns=['Column_C'])\n",
    "\n",
    "# Remove spaces and handle empty values\n",
    "df['Column_D'] = df['Column_C'].apply(lambda x: x.replace(\" \", \"\") if isinstance(x, str) else \"No Payee Name\")\n",
    "\n",
    "# Write the modified data back to column D & E (including numerical index)\n",
    "gl.sheets['Sheet1'].range('D{}'.format(first_row_of_values)).value = dict(df['Column_D'])\n",
    "gl.sheets['Sheet1'].range('E{}'.format(first_row_of_values - 2)).value = 'Payee'\n",
    "\n",
    "\n",
    "\n"
   ]
  },
  {
   "cell_type": "markdown",
   "metadata": {},
   "source": [
    "##### Adding net column (debt - credit)"
   ]
  },
  {
   "cell_type": "code",
   "execution_count": 4,
   "metadata": {},
   "outputs": [],
   "source": [
    "# Adding net column (debt - credit)\n",
    "gl.sheets['Sheet1'].api.Columns(10).Insert() # Inserting column\n",
    "\n",
    "# Set the formula for the entire range of cells in column J\n",
    "range_formula = '=H{}:H{}-I{}:I{}'.format(first_row_of_values, last_row_of_values, first_row_of_values, last_row_of_values)\n",
    "# Applying the formula to the entire column from the starting row to the ending row\n",
    "gl.sheets['Sheet1'].range('J{}:J{}'.format(first_row_of_values, last_row_of_values)).formula = range_formula \n",
    "gl.sheets['Sheet1'].range('J{}'.format(first_row_of_values - 2)).value = 'Net'\n"
   ]
  },
  {
   "cell_type": "markdown",
   "metadata": {},
   "source": [
    "##### Funds detail tenant name"
   ]
  },
  {
   "cell_type": "code",
   "execution_count": 5,
   "metadata": {},
   "outputs": [],
   "source": [
    "sec_dep_det.sheets['Sheet1'].api.Columns(3).Insert() # Inserting column\n",
    "sec_dep_det.sheets['Sheet1'].api.Columns(4).Insert() # Inserting another column to include numerical index for tenant names\n",
    "\n",
    "\n",
    "\n",
    "# Defining rows to calculate values\n",
    "first_row_of_values_sec_dep = sec_dep_det.sheets['Sheet1'].range('a'+ str(sec_dep_det.sheets['Sheet1'].cells.last_cell.row)).end('up').end('up').end('up').row + 1 # first row of values\n",
    "last_row_of_values_sec_dep = sec_dep_det.sheets['Sheet1'].range('a'+ str(sec_dep_det.sheets['Sheet1'].cells.last_cell.row)).end('up').end('up').row  # last row of values\n",
    "\n",
    "\n",
    "# Read the data into a pandas DataFrame\n",
    "column_data = sec_dep_det.sheets['Sheet1'].range('b{}:b{}'.format(first_row_of_values_sec_dep, last_row_of_values_sec_dep)).value\n",
    "df = pd.DataFrame(column_data, columns=['Names'])\n",
    "\n",
    "# Rearrange the names efficiently using pandas\n",
    "df['Names'] = df['Names'].str.split(', ').str[::-1].str.join(' ')\n",
    "df['Names'] = df['Names'].str.replace(r'\\s+', '', regex=True)\n",
    "\n",
    "# Write the updated data back to Excel\n",
    "sec_dep_det.sheets['Sheet1'].range('c{}:c{}'.format(first_row_of_values_sec_dep, last_row_of_values_sec_dep)).value = dict(df['Names'])\n"
   ]
  },
  {
   "cell_type": "markdown",
   "metadata": {},
   "source": [
    "##### Creating pivot table"
   ]
  },
  {
   "cell_type": "code",
   "execution_count": 6,
   "metadata": {},
   "outputs": [],
   "source": [
    "# Open a new Excel workbook\n",
    "diagnostics_1_wb = xw.Book()\n",
    "\n",
    "# Property Name\n",
    "diagnostics_1_wb.sheets['Sheet1'].range('a1:g1').api.Font.Bold = True\n",
    "gl.sheets['Sheet1'].range('m{}:m{}'.format(first_row_of_values, last_row_of_values)).copy()\n",
    "diagnostics_1_wb.sheets['Sheet1'].range('A2').paste()\n",
    "diagnostics_1_wb.sheets['Sheet1'].range('A1').value = 'Property Name'\n",
    "\n",
    "# Payee\n",
    "\n",
    "gl.sheets['Sheet1'].range('e{}:e{}'.format(first_row_of_values, last_row_of_values)).copy()\n",
    "diagnostics_1_wb.sheets['Sheet1'].range('b2').paste()\n",
    "diagnostics_1_wb.sheets['Sheet1'].range('b1').value = 'Payee'\n",
    "\n",
    "# SUM of net\n",
    "gl.sheets['Sheet1'].range('o{}:o{}'.format(first_row_of_values, last_row_of_values)).formula = \"=SUMIFS($J${first_row}:$J${last_row},$E${first_row}:$E${last_row},E{first_row},$M${first_row}:$M${last_row},M{first_row})\".format(first_row=first_row_of_values, last_row= last_row_of_values)\n",
    "values_list = gl.sheets['Sheet1'].range('o{}:o{}'.format(first_row_of_values, last_row_of_values)).value\n",
    "result_dict = {index: value for index, value in enumerate(values_list)}\n",
    "diagnostics_1_wb.sheets['Sheet1'].range('c2').value = result_dict\n",
    "diagnostics_1_wb.sheets['Sheet1'].range('c:c').api.Delete() # Deleting column C\n",
    "diagnostics_1_wb.sheets['Sheet1'].range('c1').value = 'Sum of Net'\n",
    "\n",
    "# SD FUNDS DETAIL\n",
    "# diagnostics_1_wb last row\n",
    "last_row = diagnostics_1_wb.sheets[0].range('A' + str(diagnostics_1_wb.sheets[0].cells.last_cell.row)).end('up').row\n",
    "\n",
    "# formula base string\n",
    "formula_base = (\n",
    "    '=SUMIFS(\\'[security_deposit_funds_detail-{current_date}.xlsx]Sheet1\\'!$H${first_row_of_values_sec_dep}:$H${last_row_of_values_sec_dep},'\n",
    "    '\\'[security_deposit_funds_detail-{current_date}.xlsx]Sheet1\\'!$I${first_row_of_values_sec_dep}:$I${last_row_of_values_sec_dep},'\n",
    "    '{{}},'\n",
    "    '\\'[security_deposit_funds_detail-{current_date}.xlsx]Sheet1\\'!$D${first_row_of_values_sec_dep}:$D${last_row_of_values_sec_dep},{{}})'\n",
    ").format(current_date=current_date, first_row_of_values_sec_dep=first_row_of_values_sec_dep, last_row_of_values_sec_dep=last_row_of_values_sec_dep)\n",
    "\n",
    "# Generate a list of formulas for the entire range\n",
    "formulas = [formula_base.format(f'A{i}', f'B{i}') for i in range(1, last_row + 1)]\n",
    "\n",
    "# Set the formulas for the entire column A at once\n",
    "column_range = diagnostics_1_wb.sheets[0].range(f'd1:d{last_row}')\n",
    "column_range.options(transpose=True).formula = formulas\n",
    "column_range.options(transpose=True).value = column_range.value\n",
    "diagnostics_1_wb.sheets['Sheet1'].range('d1').value = 'SD Funds Detail'\n",
    "\n",
    "\n",
    "# Difference\n",
    "# Get the data from Excel into a DataFrame\n",
    "sheet = diagnostics_1_wb.sheets[0]  \n",
    "data_range = sheet.range('c1').expand('table')  # The data starts from C1 and is structured as a table\n",
    "df = data_range.options(pd.DataFrame, index=False, header=True).value  # Read data into DataFrame\n",
    "\n",
    "# Calculate the difference between columns 'Sum of Net' and 'SD Funds Detail'\n",
    "df['Difference'] = round(df['Sum of Net'] + df['SD Funds Detail'])\n",
    "\n",
    "# Write the results back to Excel\n",
    "start_cell = data_range.last_cell.offset(row_offset=2, column_offset=0)  \n",
    "sheet.range(diagnostics_1_wb.sheets[0]['E1']).value = df['Difference']  # Write DataFrame back to Excel, starting in E1\n",
    "# Delete the entire column\n",
    "diagnostics_1_wb.sheets[0].api.Columns('e').Delete()\n",
    "\n",
    "\n",
    "\n",
    "# Save the workbook as an Excel file\n",
    "diagnostics_1_wb.save(r'C:\\Users\\{user}\\Downloads\\diagnosis_1.xlsx'.format(user=user))\n",
    "\n",
    "# Close the workbook\n",
    "diagnostics_1_wb.close()\n",
    "gl.close()\n",
    "sec_dep_det.close()\n",
    "\n",
    "\n"
   ]
  },
  {
   "cell_type": "markdown",
   "metadata": {},
   "source": [
    "#### Diagnosis 2\n"
   ]
  },
  {
   "cell_type": "code",
   "execution_count": 7,
   "metadata": {},
   "outputs": [],
   "source": [
    "gl = xw.Book(r'C:\\Users\\{user}\\Downloads\\general_ledger-{çurrent_day} (1).xlsx'.format(user=user, çurrent_day=current_date))\n",
    "gl_worksheet = gl.sheets['Sheet1']\n",
    "\n",
    "\n",
    "# Defining rows to calculate values\n",
    "first_row_of_values = gl.sheets['Sheet1'].range('a'+ str(gl.sheets['Sheet1'].cells.last_cell.row)).end('up').end('up').end('up').row + 2 # first row of values\n",
    "last_row_of_values = gl.sheets['Sheet1'].range('a'+ str(gl.sheets['Sheet1'].cells.last_cell.row)).end('up').end('up').row - 1  # last row of values\n",
    "\n",
    "\n",
    "\n",
    "# Creating columns to adjust payee names\n",
    "gl.sheets['Sheet1'].api.Columns(4).Insert() # Inserting column\n",
    "gl.sheets['Sheet1'].api.Columns(4).Insert() # Inserting another column to include numerical index for payee names\n",
    "\n",
    "\n",
    "# Including adjusted payee names\n",
    "\n",
    "# Read values from column C and remove spaces using pandas\n",
    "data_range_for_payee = gl.sheets['Sheet1'].range('c{}:c{}'.format(first_row_of_values, last_row_of_values))\n",
    "column_c_values = data_range_for_payee.value\n",
    "\n",
    "# Convert to a pandas DataFrame for efficient processing\n",
    "df = pd.DataFrame(column_c_values, columns=['Column_C'])\n",
    "\n",
    "# Remove spaces and handle empty values\n",
    "df['Column_D'] = df['Column_C'].apply(lambda x: x.replace(\" \", \"\") if isinstance(x, str) else \"No Payee Name\")\n",
    "\n",
    "# Write the modified data back to column D & E (including numerical index)\n",
    "gl.sheets['Sheet1'].range('D{}'.format(first_row_of_values)).value = dict(df['Column_D'])\n",
    "gl.sheets['Sheet1'].range('E{}'.format(first_row_of_values - 2)).value = 'Payee'\n",
    "\n",
    "# Adding net column (debt - credit)\n",
    "gl.sheets['Sheet1'].api.Columns(10).Insert() # Inserting column\n",
    "\n",
    "# Set the formula for the entire range of cells in column J\n",
    "range_formula = '=H{}:H{}-I{}:I{}'.format(first_row_of_values, last_row_of_values, first_row_of_values, last_row_of_values)\n",
    "# Applying the formula to the entire column from the starting row to the ending row\n",
    "gl.sheets['Sheet1'].range('J{}:J{}'.format(first_row_of_values, last_row_of_values)).formula = range_formula \n",
    "gl.sheets['Sheet1'].range('J{}'.format(first_row_of_values - 2)).value = 'Net'\n",
    "\n",
    "\n",
    "# Open a new Excel workbook\n",
    "diagnostics_1_wb = xw.Book()\n",
    "\n",
    "# Property Name\n",
    "diagnostics_1_wb.sheets['Sheet1'].range('a1:g1').api.Font.Bold = True\n",
    "gl.sheets['Sheet1'].range('m{}:m{}'.format(first_row_of_values, last_row_of_values)).copy()\n",
    "diagnostics_1_wb.sheets['Sheet1'].range('A2').paste()\n",
    "diagnostics_1_wb.sheets['Sheet1'].range('A1').value = 'Property Name'\n",
    "\n",
    "# Payee\n",
    "\n",
    "gl.sheets['Sheet1'].range('e{}:e{}'.format(first_row_of_values, last_row_of_values)).copy()\n",
    "diagnostics_1_wb.sheets['Sheet1'].range('b2').paste()\n",
    "diagnostics_1_wb.sheets['Sheet1'].range('b1').value = 'Payee'\n",
    "\n",
    "# SUM of net\n",
    "gl.sheets['Sheet1'].range('o{}:o{}'.format(first_row_of_values, last_row_of_values)).formula = \"=SUMIFS($J${first_row}:$J${last_row},$E${first_row}:$E${last_row},E{first_row},$M${first_row}:$M${last_row},M{first_row})\".format(first_row=first_row_of_values, last_row= last_row_of_values)\n",
    "values_list = gl.sheets['Sheet1'].range('o{}:o{}'.format(first_row_of_values, last_row_of_values)).value\n",
    "result_dict = {index: value for index, value in enumerate(values_list)}\n",
    "diagnostics_1_wb.sheets['Sheet1'].range('c2').value = result_dict\n",
    "diagnostics_1_wb.sheets['Sheet1'].range('c:c').api.Delete() # Deleting column C\n",
    "diagnostics_1_wb.sheets['Sheet1'].range('c1').value = 'Sum of Net'\n",
    "\n",
    "\n",
    "# Save the workbook as an Excel file\n",
    "diagnostics_1_wb.save(r'C:\\Users\\{user}\\Downloads\\diagnosis_2.xlsx'.format(user=user))\n",
    "\n",
    "# Close the workbook\n",
    "gl.close()\n",
    "diagnostics_1_wb.close()\n"
   ]
  },
  {
   "cell_type": "markdown",
   "metadata": {},
   "source": [
    "#### Diagnosis 3"
   ]
  },
  {
   "cell_type": "markdown",
   "metadata": {},
   "source": [
    "##### Opening files"
   ]
  },
  {
   "cell_type": "code",
   "execution_count": 8,
   "metadata": {},
   "outputs": [],
   "source": [
    "gl = xw.Book(r'C:\\Users\\{user}\\Downloads\\general_ledger-{çurrent_day} (2).xlsx'.format(user=user, çurrent_day=current_date))\n",
    "bill_detail = xw.Book(r'C:\\Users\\{user}\\Downloads\\bill_detail-{çurrent_day}.xlsx'.format(user=user,çurrent_day=current_date))\n",
    "\n",
    "# Indicating worksheet\n",
    "gl_worksheet = gl.sheets['Sheet1']\n",
    "bill_detail_worksheet = bill_detail.sheets['Sheet1']"
   ]
  },
  {
   "cell_type": "markdown",
   "metadata": {},
   "source": [
    "##### Including adjusted payee names"
   ]
  },
  {
   "cell_type": "code",
   "execution_count": 9,
   "metadata": {},
   "outputs": [],
   "source": [
    "# Defining rows to calculate values\n",
    "first_row_of_values = gl.sheets['Sheet1'].range('a'+ str(gl.sheets['Sheet1'].cells.last_cell.row)).end('up').end('up').end('up').row + 2 # first row of values\n",
    "last_row_of_values = gl.sheets['Sheet1'].range('a'+ str(gl.sheets['Sheet1'].cells.last_cell.row)).end('up').end('up').row - 1  # last row of values\n",
    "\n",
    "\n",
    "\n",
    "# Creating columns to adjust payee names\n",
    "gl.sheets['Sheet1'].api.Columns(4).Insert() # Inserting column\n",
    "gl.sheets['Sheet1'].api.Columns(4).Insert() # Inserting another column to include numerical index for payee names\n",
    "\n",
    "\n",
    "# Including adjusted payee names\n",
    "\n",
    "# Read values from column C and remove spaces using pandas\n",
    "data_range_for_payee = gl.sheets['Sheet1'].range('c{}:c{}'.format(first_row_of_values, last_row_of_values))\n",
    "column_c_values = data_range_for_payee.value\n",
    "\n",
    "# Convert to a pandas DataFrame for efficient processing\n",
    "df = pd.DataFrame(column_c_values, columns=['Column_C'])\n",
    "\n",
    "# Remove spaces and handle empty values\n",
    "df['Column_D'] = df['Column_C'].apply(lambda x: x.replace(\" \", \"\") if isinstance(x, str) else \"No Payee Name\")\n",
    "\n",
    "# Write the modified data back to column D & E (including numerical index)\n",
    "gl.sheets['Sheet1'].range('D{}'.format(first_row_of_values)).value = dict(df['Column_D'])\n",
    "gl.sheets['Sheet1'].range('E{}'.format(first_row_of_values - 2)).value = 'Payee'\n"
   ]
  },
  {
   "cell_type": "markdown",
   "metadata": {},
   "source": [
    "##### Adding net column (debt - credit)"
   ]
  },
  {
   "cell_type": "code",
   "execution_count": 10,
   "metadata": {},
   "outputs": [],
   "source": [
    "# Adding net column (debt - credit)\n",
    "gl.sheets['Sheet1'].api.Columns(10).Insert() # Inserting column\n",
    "\n",
    "# Set the formula for the entire range of cells in column J\n",
    "range_formula = '=H{}:H{}-I{}:I{}'.format(first_row_of_values, last_row_of_values, first_row_of_values, last_row_of_values)\n",
    "# Applying the formula to the entire column from the starting row to the ending row\n",
    "gl.sheets['Sheet1'].range('J{}:J{}'.format(first_row_of_values, last_row_of_values)).formula = range_formula \n",
    "gl.sheets['Sheet1'].range('J{}'.format(first_row_of_values - 2)).value = 'Net'"
   ]
  },
  {
   "cell_type": "markdown",
   "metadata": {},
   "source": [
    "##### Bill detail tenant name"
   ]
  },
  {
   "cell_type": "code",
   "execution_count": 11,
   "metadata": {},
   "outputs": [],
   "source": [
    "bill_detail.sheets['Sheet1'].api.Columns(8).Insert() # Inserting column\n",
    "bill_detail.sheets['Sheet1'].api.Columns(9).Insert() # Inserting another column to include numerical index for tenant names\n",
    "\n",
    "\n",
    "\n",
    "# Defining rows to calculate values\n",
    "first_row_of_values_bill_detail = bill_detail.sheets['Sheet1'].range('b'+ str(bill_detail.sheets['Sheet1'].cells.last_cell.row)).end('up').end('up').row + 1 # first row of values\n",
    "last_row_of_values_bill_detail = bill_detail.sheets['Sheet1'].range('b'+ str(bill_detail.sheets['Sheet1'].cells.last_cell.row)).end('up').row  # last row of values\n",
    "\n",
    "\n",
    "# Read the data into a pandas DataFrame\n",
    "column_data = bill_detail.sheets['Sheet1'].range('g{}:g{}'.format(first_row_of_values_sec_dep, last_row_of_values_sec_dep)).value\n",
    "df = pd.DataFrame(column_data, columns=['Names'])\n",
    "\n",
    "# Rearrange the names efficiently using pandas\n",
    "df['Names'] = df['Names'].str.split(', ').str[::-1].str.join(' ')\n",
    "df['Names'] = df['Names'].str.replace(r'\\s+', '', regex=True)\n",
    "\n",
    "# Write the updated data back to Excel\n",
    "bill_detail.sheets['Sheet1'].range('h{}:h{}'.format(first_row_of_values_sec_dep, last_row_of_values_sec_dep)).value = dict(df['Names'])"
   ]
  },
  {
   "cell_type": "markdown",
   "metadata": {},
   "source": [
    "##### Creating pivot table"
   ]
  },
  {
   "cell_type": "code",
   "execution_count": 12,
   "metadata": {},
   "outputs": [],
   "source": [
    "# Open a new Excel workbook\n",
    "diagnostics_1_wb = xw.Book()\n",
    "\n",
    "# Property Name\n",
    "diagnostics_1_wb.sheets['Sheet1'].range('a1:g1').api.Font.Bold = True\n",
    "gl.sheets['Sheet1'].range('m{}:m{}'.format(first_row_of_values, last_row_of_values)).copy()\n",
    "diagnostics_1_wb.sheets['Sheet1'].range('A2').paste()\n",
    "diagnostics_1_wb.sheets['Sheet1'].range('A1').value = 'Property Name'\n",
    "\n",
    "# Payee\n",
    "\n",
    "gl.sheets['Sheet1'].range('e{}:e{}'.format(first_row_of_values, last_row_of_values)).copy()\n",
    "diagnostics_1_wb.sheets['Sheet1'].range('b2').paste()\n",
    "diagnostics_1_wb.sheets['Sheet1'].range('b1').value = 'Payee'\n",
    "\n",
    "# SUM of net\n",
    "gl.sheets['Sheet1'].range('o{}:o{}'.format(first_row_of_values, last_row_of_values)).formula = \"=SUMIFS($J${first_row}:$J${last_row},$E${first_row}:$E${last_row},E{first_row},$M${first_row}:$M${last_row},M{first_row})\".format(first_row=first_row_of_values, last_row= last_row_of_values)\n",
    "values_list = gl.sheets['Sheet1'].range('o{}:o{}'.format(first_row_of_values, last_row_of_values)).value\n",
    "result_dict = {index: value for index, value in enumerate(values_list)}\n",
    "diagnostics_1_wb.sheets['Sheet1'].range('c2').value = result_dict\n",
    "diagnostics_1_wb.sheets['Sheet1'].range('c:c').api.Delete() # Deleting column C\n",
    "diagnostics_1_wb.sheets['Sheet1'].range('c1').value = 'Sum of Net'\n",
    "\n",
    "# SD BILL DETAIL\n",
    "# diagnostics_1_wb last row\n",
    "last_row = diagnostics_1_wb.sheets[0].range('A' + str(diagnostics_1_wb.sheets[0].cells.last_cell.row)).end('up').row\n",
    "\n",
    "\n",
    "# formula base string\n",
    "formula_base = (\n",
    "    '=SUMIFS(\\'[bill_detail-{current_date}.xlsx]Sheet1\\'!$k${first_row_of_values_bill_detail}:$k${last_row_of_values_bill_detail},'\n",
    "    '\\'[bill_detail-{current_date}.xlsx]Sheet1\\'!$p${first_row_of_values_bill_detail}:$p${last_row_of_values_bill_detail},'\n",
    "    '{{}},'\n",
    "    '\\'[bill_detail-{current_date}.xlsx]Sheet1\\'!$i${first_row_of_values_bill_detail}:$i${last_row_of_values_bill_detail},{{}})'\n",
    ").format(current_date=current_date, first_row_of_values_bill_detail=first_row_of_values_bill_detail, last_row_of_values_bill_detail=last_row_of_values_bill_detail)\n",
    "\n",
    "# Generate a list of formulas for the entire range\n",
    "formulas = [formula_base.format(f'A{i}', f'B{i}') for i in range(1, last_row + 1)]\n",
    "\n",
    "\n",
    "# Set the formulas for the entire column A at once\n",
    "column_range = diagnostics_1_wb.sheets[0].range(f'd1:d{last_row}')\n",
    "column_range.options(transpose=True).formula = formulas\n",
    "column_range.options(transpose=True).value = column_range.value\n",
    "diagnostics_1_wb.sheets['Sheet1'].range('d1').value = 'Bill Detail'\n",
    "\n",
    "\n",
    "# Difference\n",
    "# Get the data from Excel into a DataFrame\n",
    "sheet = diagnostics_1_wb.sheets[0]  \n",
    "data_range = sheet.range('c1').expand('table')  # The data starts from C1 and is structured as a table\n",
    "df = data_range.options(pd.DataFrame, index=False, header=True).value  # Read data into DataFrame\n",
    "\n",
    "# Calculate the difference between columns 'Sum of Net' and 'SD Funds Detail'\n",
    "df['Difference'] = round(df['Sum of Net'] + df['Bill Detail'])\n",
    "\n",
    "# Write the results back to Excel\n",
    "start_cell = data_range.last_cell.offset(row_offset=2, column_offset=0)  \n",
    "sheet.range(diagnostics_1_wb.sheets[0]['E1']).value = df['Difference']  # Write DataFrame back to Excel, starting in E1\n",
    "# Delete the entire column\n",
    "diagnostics_1_wb.sheets[0].api.Columns('e').Delete()\n",
    "\n",
    "\n",
    "\n",
    "# Save the workbook as an Excel file\n",
    "diagnostics_1_wb.save(r'C:\\Users\\{user}\\Downloads\\diagnosis_3.xlsx'.format(user=user))\n",
    "\n",
    "# Close the workbook\n",
    "diagnostics_1_wb.close()\n",
    "gl.close()\n",
    "bill_detail.close()\n"
   ]
  },
  {
   "cell_type": "markdown",
   "metadata": {},
   "source": [
    "#### Diagnosis 4"
   ]
  },
  {
   "cell_type": "markdown",
   "metadata": {},
   "source": [
    "##### Opening files"
   ]
  },
  {
   "cell_type": "code",
   "execution_count": 13,
   "metadata": {},
   "outputs": [],
   "source": [
    "\n",
    "gl = xw.Book(r'C:\\Users\\{user}\\Downloads\\general_ledger-{çurrent_day} (3).xlsx'.format(user=user, çurrent_day=current_date))\n",
    "delinquency = xw.Book(r'C:\\Users\\{user}\\Downloads\\delinquency-{çurrent_day}.xlsx'.format(user=user,çurrent_day=current_date))\n",
    "\n",
    "# Indicating worksheet\n",
    "gl_worksheet = gl.sheets['Sheet1']\n",
    "delinquency_worksheet = delinquency.sheets['Sheet1']"
   ]
  },
  {
   "cell_type": "markdown",
   "metadata": {},
   "source": [
    "##### Including adjusted payee names"
   ]
  },
  {
   "cell_type": "code",
   "execution_count": 14,
   "metadata": {},
   "outputs": [],
   "source": [
    "# Defining rows to calculate values\n",
    "first_row_of_values = gl.sheets['Sheet1'].range('a'+ str(gl.sheets['Sheet1'].cells.last_cell.row)).end('up').end('up').end('up').row + 2 # first row of values\n",
    "last_row_of_values = gl.sheets['Sheet1'].range('a'+ str(gl.sheets['Sheet1'].cells.last_cell.row)).end('up').end('up').row - 1  # last row of values\n",
    "\n",
    "\n",
    "\n",
    "# Creating columns to adjust payee names\n",
    "gl.sheets['Sheet1'].api.Columns(4).Insert() # Inserting column\n",
    "gl.sheets['Sheet1'].api.Columns(4).Insert() # Inserting another column to include numerical index for payee names\n",
    "\n",
    "\n",
    "# Including adjusted payee names\n",
    "\n",
    "# Read values from column C and remove spaces using pandas\n",
    "data_range_for_payee = gl.sheets['Sheet1'].range('c{}:c{}'.format(first_row_of_values, last_row_of_values))\n",
    "column_c_values = data_range_for_payee.value\n",
    "\n",
    "# Convert to a pandas DataFrame for efficient processing\n",
    "df = pd.DataFrame(column_c_values, columns=['Column_C'])\n",
    "\n",
    "# Remove spaces and handle empty values\n",
    "df['Column_D'] = df['Column_C'].apply(lambda x: x.replace(\" \", \"\") if isinstance(x, str) else \"No Payee Name\")\n",
    "\n",
    "# Write the modified data back to column D & E (including numerical index)\n",
    "gl.sheets['Sheet1'].range('D{}'.format(first_row_of_values)).value = dict(df['Column_D'])\n",
    "gl.sheets['Sheet1'].range('E{}'.format(first_row_of_values - 2)).value = 'Payee'\n"
   ]
  },
  {
   "cell_type": "markdown",
   "metadata": {},
   "source": [
    "##### Adding net column (debt - credit)"
   ]
  },
  {
   "cell_type": "code",
   "execution_count": 15,
   "metadata": {},
   "outputs": [],
   "source": [
    "# Adding net column (debt - credit)\n",
    "gl.sheets['Sheet1'].api.Columns(10).Insert() # Inserting column\n",
    "\n",
    "# Set the formula for the entire range of cells in column J\n",
    "range_formula = '=H{}:H{}-I{}:I{}'.format(first_row_of_values, last_row_of_values, first_row_of_values, last_row_of_values)\n",
    "# Applying the formula to the entire column from the starting row to the ending row\n",
    "gl.sheets['Sheet1'].range('J{}:J{}'.format(first_row_of_values, last_row_of_values)).formula = range_formula \n",
    "gl.sheets['Sheet1'].range('J{}'.format(first_row_of_values - 2)).value = 'Net'"
   ]
  },
  {
   "cell_type": "markdown",
   "metadata": {},
   "source": [
    "##### Delinquency tenant name"
   ]
  },
  {
   "cell_type": "code",
   "execution_count": 16,
   "metadata": {},
   "outputs": [],
   "source": [
    "delinquency.sheets['Sheet1'].api.Columns(3).Insert() # Inserting column\n",
    "delinquency.sheets['Sheet1'].api.Columns(4).Insert() # Inserting another column to include numerical index for tenant names\n",
    "\n",
    "\n",
    "\n",
    "# Defining rows to calculate values\n",
    "first_row_of_values_deliquency = delinquency.sheets['Sheet1'].range('a'+ str(delinquency.sheets['Sheet1'].cells.last_cell.row)).end('up').end('up').end('up').row + 1 # first row of values\n",
    "last_row_of_values_deliquency = delinquency.sheets['Sheet1'].range('a'+ str(delinquency.sheets['Sheet1'].cells.last_cell.row)).end('up').end('up').row  # last row of values\n",
    "\n",
    "# Read the data into a pandas DataFrame\n",
    "column_data = delinquency.sheets['Sheet1'].range('b{}:b{}'.format(first_row_of_values_deliquency, last_row_of_values_deliquency)).value\n",
    "df = pd.DataFrame(column_data, columns=['Names'])\n",
    "\n",
    "# Rearrange the names efficiently using pandas\n",
    "df['Names'] = df['Names'].str.split(', ').str[::-1].str.join(' ')\n",
    "df['Names'] = df['Names'].str.replace(r'\\s+', '', regex=True)\n",
    "\n",
    "# Write the updated data back to Excel\n",
    "delinquency.sheets['Sheet1'].range('c{}:c{}'.format(first_row_of_values_deliquency, last_row_of_values_deliquency)).value = dict(df['Names'])"
   ]
  },
  {
   "cell_type": "markdown",
   "metadata": {},
   "source": []
  },
  {
   "cell_type": "markdown",
   "metadata": {},
   "source": [
    "##### Creating pivot table"
   ]
  },
  {
   "cell_type": "code",
   "execution_count": 17,
   "metadata": {},
   "outputs": [],
   "source": [
    "# Open a new Excel workbook\n",
    "diagnostics_1_wb = xw.Book()\n",
    "\n",
    "# Property Name\n",
    "diagnostics_1_wb.sheets['Sheet1'].range('a1:g1').api.Font.Bold = True\n",
    "gl.sheets['Sheet1'].range('m{}:m{}'.format(first_row_of_values, last_row_of_values)).copy()\n",
    "diagnostics_1_wb.sheets['Sheet1'].range('A2').paste()\n",
    "diagnostics_1_wb.sheets['Sheet1'].range('A1').value = 'Property Name'\n",
    "\n",
    "# Payee\n",
    "\n",
    "gl.sheets['Sheet1'].range('e{}:e{}'.format(first_row_of_values, last_row_of_values)).copy()\n",
    "diagnostics_1_wb.sheets['Sheet1'].range('b2').paste()\n",
    "diagnostics_1_wb.sheets['Sheet1'].range('b1').value = 'Payee'\n",
    "\n",
    "\n",
    "\n",
    "# # SUM of net\n",
    "# defining columns to calculate values\n",
    "e_values = gl.sheets['Sheet1']['e{}:e{}'.format(first_row_of_values, last_row_of_values)].value\n",
    "m_values = gl.sheets['Sheet1']['m{}:m{}'.format(first_row_of_values, last_row_of_values)].value\n",
    "j_values = gl.sheets['Sheet1']['j{}:j{}'.format(first_row_of_values, last_row_of_values)].value\n",
    "\n",
    "# DataFrame using the retrieved values\n",
    "data = {\n",
    "    'E': e_values,\n",
    "    'M': m_values,\n",
    "    'J': j_values\n",
    "}\n",
    "\n",
    "df = pd.DataFrame(data)\n",
    "\n",
    "# Calculate the grouped sum\n",
    "result = df.groupby(['E', 'M'])['J'].transform('sum')\n",
    "\n",
    "# Add the result as a new column at the end of the DataFrame\n",
    "df['SUMIFS_Result'] = result\n",
    "\n",
    "# Including final result in excel file column \"O\"\n",
    "diagnostics_1_wb.sheets['Sheet1']['c2'].value = dict(df['SUMIFS_Result'])\n",
    "diagnostics_1_wb.sheets[0].api.Columns('c').Delete()\n",
    "diagnostics_1_wb.sheets['Sheet1'].range('c1').value = 'SUM of net'\n",
    "\n",
    "\n",
    "\n",
    "# DELINQUENCY DETAIL\n",
    "# defining columns to calculate values\n",
    "d_values = delinquency.sheets['Sheet1']['d{}:d{}'.format(first_row_of_values_deliquency, last_row_of_values_deliquency)].value\n",
    "g_values = delinquency.sheets['Sheet1']['g{}:g{}'.format(first_row_of_values_deliquency, last_row_of_values_deliquency)].value\n",
    "h_values = delinquency.sheets['Sheet1']['h{}:h{}'.format(first_row_of_values_deliquency, last_row_of_values_deliquency)].value\n",
    "\n",
    "# DataFrame using the retrieved values\n",
    "data = {\n",
    "    'a': d_values,\n",
    "    'b': g_values,\n",
    "    'c': h_values\n",
    "}\n",
    "\n",
    "df_1 = pd.DataFrame(data)\n",
    "\n",
    "# Calculate the grouped sum\n",
    "result = df_1.groupby(['a', 'b'])['c'].transform('sum')\n",
    "\n",
    "# Add the result as a new column at the end of the DataFrame\n",
    "df_1['SUMIFS_Result'] = result\n",
    "\n",
    "\n",
    "last_row = diagnostics_1_wb.sheets[0].range('A' + str(diagnostics_1_wb.sheets[0].cells.last_cell.row)).end('up').row\n",
    "\n",
    "a_values = diagnostics_1_wb.sheets['Sheet1']['a{}:a{}'.format(2, last_row)].value\n",
    "b_values = diagnostics_1_wb.sheets['Sheet1']['b{}:b{}'.format(2, last_row)].value\n",
    "\n",
    "# DataFrame using the retrieved values\n",
    "data = {\n",
    "    'a': b_values,\n",
    "    'b': a_values\n",
    "}\n",
    "\n",
    "df_2 = pd.DataFrame(data)\n",
    "\n",
    "\n",
    "\n",
    "# Creating a dictionary-like structure from df1\n",
    "mapping_dict = dict(zip(zip(df_1['a'], df_1['b']), df_1['SUMIFS_Result']))\n",
    "\n",
    "# Mapping the values from df1 to df2 based on 'G' and 'D' columns\n",
    "df_2['Total Delinquency'] = df_2.apply(lambda row: mapping_dict.get((row['a'], row['b']), None), axis=1)\n",
    "diagnostics_1_wb.sheets['Sheet1']['D2'].value = dict(df_2['Total Delinquency'])\n",
    "diagnostics_1_wb.sheets[0].api.Columns('D').Delete()\n",
    "diagnostics_1_wb.sheets['Sheet1'].range('D1').value = 'Delinquency'\n",
    "diagnostics_1_wb.sheets['Sheet1'].range('D1').api.Font.Bold = True\n",
    "\n",
    "\n",
    "\n",
    "# Difference\n",
    "# Get the data from Excel into a DataFrame\n",
    "sheet = diagnostics_1_wb.sheets[0]  \n",
    "data_range = sheet.range('c1').expand('table')  # The data starts from C1 and is structured as a table\n",
    "df = data_range.options(pd.DataFrame, index=False, header=True).value  # Read data into DataFrame\n",
    "\n",
    "# Calculate the difference between columns 'Sum of Net' and 'SD Funds Detail'\n",
    "df['Difference'] = round(df['SUM of net'] + df['Delinquency'])\n",
    "\n",
    "# Write the results back to Excel\n",
    "start_cell = data_range.last_cell.offset(row_offset=2, column_offset=0)  \n",
    "sheet.range(diagnostics_1_wb.sheets[0]['E1']).value = df['Difference']  # Write DataFrame back to Excel, starting in E1\n",
    "# Delete the entire column\n",
    "diagnostics_1_wb.sheets[0].api.Columns('e').Delete()\n",
    "diagnostics_1_wb.sheets['Sheet1'].range('e1').api.Font.Bold = True\n",
    "\n",
    "\n",
    "\n",
    "# Save the workbook as an Excel file\n",
    "diagnostics_1_wb.save(r'C:\\Users\\{user}\\Downloads\\diagnosis_4.xlsx'.format(user=user))\n",
    "\n",
    "# Close the workbook\n",
    "diagnostics_1_wb.close()\n",
    "gl.close()\n",
    "delinquency.close()\n",
    "\n",
    "\n",
    "\n"
   ]
  },
  {
   "cell_type": "code",
   "execution_count": null,
   "metadata": {},
   "outputs": [],
   "source": []
  },
  {
   "cell_type": "code",
   "execution_count": null,
   "metadata": {},
   "outputs": [],
   "source": []
  },
  {
   "cell_type": "code",
   "execution_count": null,
   "metadata": {},
   "outputs": [],
   "source": []
  },
  {
   "cell_type": "code",
   "execution_count": null,
   "metadata": {},
   "outputs": [],
   "source": []
  },
  {
   "cell_type": "code",
   "execution_count": null,
   "metadata": {},
   "outputs": [],
   "source": []
  },
  {
   "cell_type": "code",
   "execution_count": null,
   "metadata": {},
   "outputs": [],
   "source": []
  },
  {
   "cell_type": "code",
   "execution_count": null,
   "metadata": {},
   "outputs": [],
   "source": [
    "\n"
   ]
  },
  {
   "cell_type": "code",
   "execution_count": null,
   "metadata": {},
   "outputs": [],
   "source": []
  },
  {
   "cell_type": "code",
   "execution_count": null,
   "metadata": {},
   "outputs": [],
   "source": []
  },
  {
   "cell_type": "code",
   "execution_count": null,
   "metadata": {},
   "outputs": [],
   "source": []
  },
  {
   "cell_type": "code",
   "execution_count": null,
   "metadata": {},
   "outputs": [],
   "source": []
  },
  {
   "cell_type": "code",
   "execution_count": null,
   "metadata": {},
   "outputs": [],
   "source": []
  },
  {
   "cell_type": "code",
   "execution_count": null,
   "metadata": {},
   "outputs": [],
   "source": []
  },
  {
   "cell_type": "code",
   "execution_count": null,
   "metadata": {},
   "outputs": [],
   "source": []
  },
  {
   "cell_type": "code",
   "execution_count": null,
   "metadata": {},
   "outputs": [],
   "source": []
  },
  {
   "cell_type": "code",
   "execution_count": null,
   "metadata": {},
   "outputs": [],
   "source": []
  },
  {
   "cell_type": "code",
   "execution_count": null,
   "metadata": {},
   "outputs": [],
   "source": []
  },
  {
   "cell_type": "code",
   "execution_count": null,
   "metadata": {},
   "outputs": [],
   "source": []
  },
  {
   "cell_type": "code",
   "execution_count": null,
   "metadata": {},
   "outputs": [],
   "source": []
  },
  {
   "cell_type": "code",
   "execution_count": null,
   "metadata": {},
   "outputs": [],
   "source": []
  },
  {
   "cell_type": "code",
   "execution_count": null,
   "metadata": {},
   "outputs": [],
   "source": []
  },
  {
   "cell_type": "code",
   "execution_count": null,
   "metadata": {},
   "outputs": [],
   "source": []
  },
  {
   "cell_type": "code",
   "execution_count": null,
   "metadata": {},
   "outputs": [],
   "source": []
  },
  {
   "cell_type": "code",
   "execution_count": null,
   "metadata": {},
   "outputs": [],
   "source": []
  },
  {
   "cell_type": "code",
   "execution_count": null,
   "metadata": {},
   "outputs": [],
   "source": []
  },
  {
   "cell_type": "markdown",
   "metadata": {},
   "source": [
    "#### Notes"
   ]
  },
  {
   "cell_type": "markdown",
   "metadata": {},
   "source": [
    "- No cambiarle el nombre a los archivos que se descargan de appfolio\n",
    "\n",
    "- no tener en la carpeta de descargas archivos previos a este proceso con los siguientes nombres\n",
    "general_ledger-20231110\n",
    "\n",
    "    - security_deposit_funds_detail-20231110\n",
    "\n",
    "    - delinquency-20231110\n",
    "\n",
    "    - bill_detail-20231214"
   ]
  },
  {
   "cell_type": "markdown",
   "metadata": {},
   "source": []
  }
 ],
 "metadata": {
  "kernelspec": {
   "display_name": "Python 3",
   "language": "python",
   "name": "python3"
  },
  "language_info": {
   "codemirror_mode": {
    "name": "ipython",
    "version": 3
   },
   "file_extension": ".py",
   "mimetype": "text/x-python",
   "name": "python",
   "nbconvert_exporter": "python",
   "pygments_lexer": "ipython3",
   "version": "3.11.1"
  }
 },
 "nbformat": 4,
 "nbformat_minor": 2
}
